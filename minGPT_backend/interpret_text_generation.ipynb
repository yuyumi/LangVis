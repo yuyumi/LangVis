{
 "cells": [
  {
   "cell_type": "code",
   "execution_count": 1,
   "id": "df4f3b65-1923-4cd1-a508-64ddb1fbe414",
   "metadata": {},
   "outputs": [],
   "source": [
    "import torch\n",
    "from transformers import GPT2Tokenizer, GPT2LMHeadModel\n",
    "from mingpt.model import GPT\n",
    "from mingpt.utils import set_seed\n",
    "from mingpt.bpe import BPETokenizer\n",
    "\n",
    "import matplotlib.pyplot as plt\n",
    "import numpy as np\n",
    "\n",
    "set_seed(3407)"
   ]
  },
  {
   "cell_type": "code",
   "execution_count": 2,
   "id": "9f1fdd33-015b-4dcd-b9af-101a1a77114b",
   "metadata": {},
   "outputs": [],
   "source": [
    "use_mingpt = True # use minGPT or huggingface/transformers model?\n",
    "model_type = 'gpt2'\n",
    "device = 'cuda'"
   ]
  },
  {
   "cell_type": "code",
   "execution_count": 3,
   "id": "4d9c8bb9-212f-4c00-aecb-dd47dca8d55f",
   "metadata": {},
   "outputs": [],
   "source": [
    "if use_mingpt:\n",
    "    model = GPT.from_pretrained(model_type)\n",
    "else:\n",
    "    model = GPT2LMHeadModel.from_pretrained(model_type)\n",
    "    model.config.pad_token_id = model.config.eos_token_id # suppress a warning\n",
    "\n",
    "# ship model to device and set to eval mode\n",
    "model.to(device)\n",
    "model.eval();"
   ]
  },
  {
   "cell_type": "code",
   "execution_count": 4,
   "id": "98a0cf95-13f4-454e-a9f5-8af7f03520b1",
   "metadata": {},
   "outputs": [],
   "source": [
    "def generate(prompt='', num_samples=10, steps=20, do_sample=False):\n",
    "        \n",
    "    # tokenize the input prompt into integer input sequence\n",
    "    if use_mingpt:\n",
    "        tokenizer = BPETokenizer()\n",
    "        if prompt == '':\n",
    "            # to create unconditional samples...\n",
    "            # manually create a tensor with only the special <|endoftext|> token\n",
    "            # similar to what openai's code does here https://github.com/openai/gpt-2/blob/master/src/generate_unconditional_samples.py\n",
    "            x = torch.tensor([[tokenizer.encoder.encoder['<|endoftext|>']]], dtype=torch.long)\n",
    "        else:\n",
    "            x = tokenizer(prompt).to(device)\n",
    "    else:\n",
    "        tokenizer = GPT2Tokenizer.from_pretrained(model_type)\n",
    "        if prompt == '': \n",
    "            # to create unconditional samples...\n",
    "            # huggingface/transformers tokenizer special cases these strings\n",
    "            prompt = '<|endoftext|>'\n",
    "        encoded_input = tokenizer(prompt, return_tensors='pt').to(device)\n",
    "        x = encoded_input['input_ids']\n",
    "    \n",
    "    # we'll process all desired num_samples in a batch, so expand out the batch dim\n",
    "    x = x.expand(num_samples, -1)\n",
    "\n",
    "    # forward the model `steps` times to get samples, in a batch\n",
    "    y, attns, logits, tok_emb = model.generate(x, max_new_tokens=steps, do_sample=do_sample, return_logits=True, save_grad=True)\n",
    "    \n",
    "    for i in range(num_samples):\n",
    "        out = tokenizer.decode(y[i].cpu().squeeze())\n",
    "        print('-'*80)\n",
    "        print(out)\n",
    "\n",
    "    return attns, out, logits, tok_emb"
   ]
  },
  {
   "cell_type": "code",
   "execution_count": 5,
   "id": "b5d482f3-7086-4af4-817b-ef19040804e2",
   "metadata": {
    "tags": []
   },
   "outputs": [
    {
     "name": "stdout",
     "output_type": "stream",
     "text": [
      "--------------------------------------------------------------------------------\n",
      "Harvard is a university in the United\n"
     ]
    }
   ],
   "source": [
    "prompt = \"Harvard is a university in\"\n",
    "attns, out, logits, tok_emb = generate(prompt=prompt, num_samples=1, steps=2)"
   ]
  },
  {
   "cell_type": "code",
   "execution_count": 6,
   "id": "50df3a9e-ba5b-4b51-86f1-abb543a04a51",
   "metadata": {},
   "outputs": [],
   "source": [
    "tokenizer = BPETokenizer()\n",
    "encoded_input = tokenizer(out, return_tensors='pt').to(device)"
   ]
  },
  {
   "cell_type": "code",
   "execution_count": 7,
   "id": "a4d955e6-1e73-4202-ad03-e304dcf74136",
   "metadata": {},
   "outputs": [
    {
     "data": {
      "text/plain": [
       "tensor([[13587, 10187,   318,   257,  6403,   287,   262,  1578]],\n",
       "       device='cuda:0')"
      ]
     },
     "execution_count": 7,
     "metadata": {},
     "output_type": "execute_result"
    }
   ],
   "source": [
    "encoded_input"
   ]
  },
  {
   "cell_type": "code",
   "execution_count": 8,
   "id": "ef797253-0a94-4889-9a00-25d1ee3443be",
   "metadata": {},
   "outputs": [],
   "source": [
    "tokens = [tokenizer.decode(token.unsqueeze(0)) for token in encoded_input[0]]"
   ]
  },
  {
   "cell_type": "code",
   "execution_count": 9,
   "id": "236f6900-a6cc-463c-b620-6d737905f1ab",
   "metadata": {},
   "outputs": [
    {
     "data": {
      "text/plain": [
       "['Har', 'vard', ' is', ' a', ' university', ' in', ' the', ' United']"
      ]
     },
     "execution_count": 9,
     "metadata": {},
     "output_type": "execute_result"
    }
   ],
   "source": [
    "tokens"
   ]
  },
  {
   "cell_type": "code",
   "execution_count": 163,
   "id": "42323cbc-24ec-44f5-b6ec-3e85dbdef0f9",
   "metadata": {},
   "outputs": [],
   "source": [
    "# logits[0, torch.argmax(logits, dim=-1)].backward()"
   ]
  },
  {
   "cell_type": "code",
   "execution_count": 164,
   "id": "5b4227a7-9df8-48fb-b3f9-2a575b5e622c",
   "metadata": {},
   "outputs": [],
   "source": [
    "# tok_emb.grad"
   ]
  },
  {
   "cell_type": "markdown",
   "id": "7369cd5d-242a-4dfb-8603-a2eb917fb601",
   "metadata": {},
   "source": [
    "## 1. Saliency"
   ]
  },
  {
   "cell_type": "code",
   "execution_count": 6,
   "id": "a74cb236-4d01-40fc-a1db-c44a575175ce",
   "metadata": {},
   "outputs": [],
   "source": [
    "grads = torch.autograd.grad(tuple(torch.flatten(logits)), tok_emb, retain_graph=True)"
   ]
  },
  {
   "cell_type": "code",
   "execution_count": 7,
   "id": "b5c1fc92-14f3-495c-b4c2-ef92c3ea54a4",
   "metadata": {},
   "outputs": [],
   "source": [
    "aggregated_grads = []\n",
    "for grad, inp in zip(grads, tok_emb):\n",
    "    # aggregated_grads.append(torch.norm(grad * inp, dim=-1))\n",
    "    # aggregated_grads.append(grad.abs().max(-1).values)\n",
    "    aggregated_grads.append(grad.abs().mean(-1))\n",
    "    # aggregated_grads.append(grad.abs().min(-1).values)"
   ]
  },
  {
   "cell_type": "code",
   "execution_count": 11,
   "id": "048043cb-0b59-45f0-af17-96b554729d05",
   "metadata": {},
   "outputs": [
    {
     "data": {
      "text/plain": [
       "torch.Size([1, 7])"
      ]
     },
     "execution_count": 11,
     "metadata": {},
     "output_type": "execute_result"
    }
   ],
   "source": [
    "aggregated_grads[0].shape"
   ]
  },
  {
   "cell_type": "code",
   "execution_count": 20,
   "id": "4966b7d9-0dbf-46c6-a6fc-9b337eb442a6",
   "metadata": {},
   "outputs": [],
   "source": [
    "a = []\n",
    "a.append(aggregated_grads[0].cpu().detach()[0].tolist())"
   ]
  },
  {
   "cell_type": "code",
   "execution_count": 21,
   "id": "6dcd30f2-cb46-4650-9423-4d8019ae2fa4",
   "metadata": {},
   "outputs": [
    {
     "data": {
      "text/plain": [
       "[[11974.3662109375,\n",
       "  13841.138671875,\n",
       "  8753.30078125,\n",
       "  4883.1728515625,\n",
       "  10322.05859375,\n",
       "  5143.65185546875,\n",
       "  12913.8232421875]]"
      ]
     },
     "execution_count": 21,
     "metadata": {},
     "output_type": "execute_result"
    }
   ],
   "source": [
    "a"
   ]
  },
  {
   "cell_type": "code",
   "execution_count": 8,
   "id": "6a49320c-abdc-4919-b20e-15eaa9eeeefd",
   "metadata": {},
   "outputs": [
    {
     "ename": "NameError",
     "evalue": "name 'tokens' is not defined",
     "output_type": "error",
     "traceback": [
      "\u001b[0;31m---------------------------------------------------------------------------\u001b[0m",
      "\u001b[0;31mNameError\u001b[0m                                 Traceback (most recent call last)",
      "Cell \u001b[0;32mIn [8], line 2\u001b[0m\n\u001b[1;32m      1\u001b[0m plt\u001b[38;5;241m.\u001b[39mimshow(aggregated_grads[\u001b[38;5;241m0\u001b[39m]\u001b[38;5;241m.\u001b[39mcpu()\u001b[38;5;241m.\u001b[39mdetach(), cmap\u001b[38;5;241m=\u001b[39m\u001b[38;5;124m\"\u001b[39m\u001b[38;5;124mReds\u001b[39m\u001b[38;5;124m\"\u001b[39m)\n\u001b[0;32m----> 2\u001b[0m plt\u001b[38;5;241m.\u001b[39mxticks(ticks\u001b[38;5;241m=\u001b[39mnp\u001b[38;5;241m.\u001b[39marange(\u001b[38;5;28mlen\u001b[39m(\u001b[43mtokens\u001b[49m[:\u001b[38;5;241m-\u001b[39m\u001b[38;5;241m1\u001b[39m])), labels\u001b[38;5;241m=\u001b[39mtokens[:\u001b[38;5;241m-\u001b[39m\u001b[38;5;241m1\u001b[39m], fontsize\u001b[38;5;241m=\u001b[39m\u001b[38;5;241m12\u001b[39m, rotation \u001b[38;5;241m=\u001b[39m \u001b[38;5;241m-\u001b[39m\u001b[38;5;241m35\u001b[39m)\n\u001b[1;32m      3\u001b[0m plt\u001b[38;5;241m.\u001b[39myticks(ticks\u001b[38;5;241m=\u001b[39m[])\n\u001b[1;32m      4\u001b[0m plt\u001b[38;5;241m.\u001b[39mshow()\n",
      "\u001b[0;31mNameError\u001b[0m: name 'tokens' is not defined"
     ]
    },
    {
     "data": {
      "image/png": "[encoded data removed]",
      "text/plain": [
       "<Figure size 432x288 with 1 Axes>"
      ]
     },
     "metadata": {
      "needs_background": "light"
     },
     "output_type": "display_data"
    }
   ],
   "source": [
    "plt.imshow(aggregated_grads[0].cpu().detach(), cmap=\"Reds\")\n",
    "plt.xticks(ticks=np.arange(len(tokens[:-1])), labels=tokens[:-1], fontsize=12, rotation = -35)\n",
    "plt.yticks(ticks=[])\n",
    "plt.show()"
   ]
  },
  {
   "cell_type": "markdown",
   "id": "b02bfe9f-d764-4c6f-bc56-875c31787402",
   "metadata": {},
   "source": [
    "## 2. Attention at one layer one head"
   ]
  },
  {
   "cell_type": "code",
   "execution_count": 168,
   "id": "849a0fb2-2ffd-41b8-8e0f-8b4d1004b253",
   "metadata": {},
   "outputs": [
    {
     "data": {
      "image/png": "[encoded data removed]",
      "text/plain": [
       "<Figure size 576x576 with 1 Axes>"
      ]
     },
     "metadata": {
      "needs_background": "light"
     },
     "output_type": "display_data"
    }
   ],
   "source": [
    "head = 8\n",
    "\n",
    "plt.figure(figsize=(8, 8))\n",
    "plt.imshow(attns[\"attn_layer_11\"][0, head].detach().cpu().numpy(), cmap=\"Reds\")\n",
    "plt.yticks(ticks=np.arange(len(tokens[:-1])), labels=tokens[:-1], fontsize=12,)\n",
    "plt.xticks(ticks=np.arange(len(tokens[:-1])), labels=tokens[:-1], fontsize=12, rotation = -35)\n",
    "plt.show()"
   ]
  },
  {
   "cell_type": "markdown",
   "id": "17b0b041-cf0d-4158-a050-32611f534f21",
   "metadata": {},
   "source": [
    "## 2.1 Attention at one layer one head (exclude first null attn)"
   ]
  },
  {
   "cell_type": "code",
   "execution_count": 169,
   "id": "783be340-e764-4cb7-b755-15cd5d7b0e90",
   "metadata": {},
   "outputs": [
    {
     "data": {
      "image/png": "[encoded data removed]",
      "text/plain": [
       "<Figure size 576x576 with 1 Axes>"
      ]
     },
     "metadata": {
      "needs_background": "light"
     },
     "output_type": "display_data"
    }
   ],
   "source": [
    "plt.figure(figsize=(8, 8))\n",
    "plt.imshow(attns[\"attn_layer_11\"][0, head][..., 1:, 1:].detach().cpu().numpy(), cmap=\"Reds\")\n",
    "plt.yticks(ticks=np.arange(len(tokens[1:-1])), labels=tokens[1:-1], fontsize=12,)\n",
    "plt.xticks(ticks=np.arange(len(tokens[1:-1])), labels=tokens[1:-1], fontsize=12, rotation = -35)\n",
    "plt.show()"
   ]
  },
  {
   "cell_type": "markdown",
   "id": "9daf904f-07b9-4f75-a728-dd62a2661d9c",
   "metadata": {},
   "source": [
    "## 3. Attention of head aggregated by summing all layers"
   ]
  },
  {
   "cell_type": "code",
   "execution_count": 170,
   "id": "04db65aa-b61f-41f4-9085-a1c4c2f65f09",
   "metadata": {},
   "outputs": [],
   "source": [
    "agg_attn = torch.zeros_like(attns[\"attn_layer_0\"][0, head])\n",
    "for attn in attns.keys():\n",
    "    agg_attn += attns[attn][0, head]"
   ]
  },
  {
   "cell_type": "code",
   "execution_count": 171,
   "id": "30c717f7-d885-4b24-a84e-ec2804bd18ef",
   "metadata": {
    "tags": []
   },
   "outputs": [
    {
     "data": {
      "image/png": "[encoded data removed]",
      "text/plain": [
       "<Figure size 576x576 with 1 Axes>"
      ]
     },
     "metadata": {
      "needs_background": "light"
     },
     "output_type": "display_data"
    }
   ],
   "source": [
    "plt.figure(figsize=(8, 8))\n",
    "plt.imshow(agg_attn.detach().cpu().numpy(), cmap=\"Reds\")\n",
    "plt.yticks(ticks=np.arange(len(tokens[:-1])), labels=tokens[:-1], fontsize=12,)\n",
    "plt.xticks(ticks=np.arange(len(tokens[:-1])), labels=tokens[:-1], fontsize=12, rotation = -30)\n",
    "plt.show()"
   ]
  },
  {
   "cell_type": "markdown",
   "id": "fa33a2a3-308d-4cd3-af43-688ccbf650d5",
   "metadata": {},
   "source": [
    "## 3.1 Attention of head aggregated by summing all layers (Exclude first null attention)"
   ]
  },
  {
   "cell_type": "code",
   "execution_count": 172,
   "id": "703c126f-a6fe-4ab4-a276-2fcafb41e199",
   "metadata": {},
   "outputs": [],
   "source": [
    "agg_attn = torch.zeros_like(attns[\"attn_layer_0\"][0, head])\n",
    "for attn in attns.keys():\n",
    "    agg_attn += attns[attn][0, head]"
   ]
  },
  {
   "cell_type": "code",
   "execution_count": 173,
   "id": "c12ad643-5b05-40fd-a88d-9cf9ac0eb3c4",
   "metadata": {
    "tags": []
   },
   "outputs": [
    {
     "data": {
      "image/png": "[encoded data removed]",
      "text/plain": [
       "<Figure size 576x576 with 1 Axes>"
      ]
     },
     "metadata": {
      "needs_background": "light"
     },
     "output_type": "display_data"
    }
   ],
   "source": [
    "plt.figure(figsize=(8, 8))\n",
    "plt.imshow(agg_attn.detach().cpu().numpy()[1:, 1:], cmap=\"Reds\")\n",
    "plt.yticks(ticks=np.arange(len(tokens[1:-1])), labels=tokens[1:-1], fontsize=12,)\n",
    "plt.xticks(ticks=np.arange(len(tokens[1:-1])), labels=tokens[1:-1], fontsize=12, rotation = -30)\n",
    "plt.show()"
   ]
  },
  {
   "cell_type": "markdown",
   "id": "e7dc9bc9-b147-48f0-b5fa-6079929d2674",
   "metadata": {},
   "source": [
    "## 4. Attention Rollout"
   ]
  },
  {
   "cell_type": "code",
   "execution_count": 174,
   "id": "e3500fc6-c9ae-4570-9b92-ad3a9694d85a",
   "metadata": {},
   "outputs": [],
   "source": [
    "head = 11\n",
    "agg_attn = torch.ones_like(attns[\"attn_layer_0\"][0, head])\n",
    "\n",
    "for i in range(11):\n",
    "    for j in range(i):\n",
    "        agg_attn *= (0.5 * attns[f\"attn_layer_{j}\"][0, head] + \n",
    "                     0.5 * torch.eye(attns[attn].shape[-2],attns[attn].shape[-1]).to(device))"
   ]
  },
  {
   "cell_type": "code",
   "execution_count": 118,
   "id": "ee3c40ed-b98e-430a-aafd-8e43dc69487a",
   "metadata": {},
   "outputs": [],
   "source": [
    "def attn_rollout(layer_n, head):\n",
    "    cur_layer_attn = (0.5 * attns[f\"attn_layer_{layer_n}\"][0, head] + \n",
    "                      0.5 * torch.eye(attns[attn].shape[-2],attns[attn].shape[-1]).to(device))\n",
    "    if layer_n == 0:\n",
    "        return cur_layer_attn\n",
    "    else:\n",
    "        return cur_layer_attn * attn_rollout(layer_n - 1, head)"
   ]
  },
  {
   "cell_type": "code",
   "execution_count": 119,
   "id": "646b1e14-c130-4594-ac8f-793b7622175e",
   "metadata": {},
   "outputs": [],
   "source": [
    "def attn_rollout(layer_n, head):\n",
    "    cur_layer_attn = attns[f\"attn_layer_{layer_n}\"][0, head][..., 1:, 1:]\n",
    "    if layer_n == 0:\n",
    "        return cur_layer_attn\n",
    "    else:\n",
    "        return cur_layer_attn * attn_rollout(layer_n - 1, head)"
   ]
  },
  {
   "cell_type": "code",
   "execution_count": 120,
   "id": "f75be90d-8500-49ef-aab3-46cb1c1edb38",
   "metadata": {},
   "outputs": [],
   "source": [
    "agg_attn = attn_rollout(11, 0)"
   ]
  },
  {
   "cell_type": "code",
   "execution_count": 121,
   "id": "73ca034d-080b-4b35-ab8a-59efde4c87dc",
   "metadata": {},
   "outputs": [
    {
     "data": {
      "image/png": "[encoded data removed]",
      "text/plain": [
       "<Figure size 576x576 with 1 Axes>"
      ]
     },
     "metadata": {
      "needs_background": "light"
     },
     "output_type": "display_data"
    }
   ],
   "source": [
    "plt.figure(figsize=(8, 8))\n",
    "plt.imshow(agg_attn.detach().cpu().numpy(), cmap=\"Reds\")\n",
    "plt.yticks(ticks=np.arange(len(tokens[:-1])), labels=tokens[:-1], fontsize=12,)\n",
    "plt.xticks(ticks=np.arange(len(tokens[:-1])), labels=tokens[:-1], fontsize=12, rotation = -30)\n",
    "plt.show()"
   ]
  },
  {
   "cell_type": "markdown",
   "id": "458e0a8b-0d88-4e89-84e8-d490debcb6b1",
   "metadata": {},
   "source": [
    "## 5. Modularized"
   ]
  },
  {
   "cell_type": "code",
   "execution_count": 10,
   "id": "7bedddf2-b679-4cad-83b2-cad7cc06cb18",
   "metadata": {},
   "outputs": [],
   "source": [
    "def generate(prompt, tokenizer, model, num_samples=1, steps=20, do_sample=False, saliency=False):    \n",
    "    x = tokenizer(prompt).to(args.device)\n",
    "    # we'll process all desired num_samples in a batch, so expand out the batch dim\n",
    "    x = x.expand(num_samples, -1)\n",
    "\n",
    "    # forward the model `steps` times to get samples, in a batch\n",
    "    # For consistency reason, do not sample output logits. We want results to be reproducible\n",
    "    output = model.generate(x, max_new_tokens=steps, do_sample=do_sample, \n",
    "                            return_logits=saliency, save_grad=saliency)\n",
    "    \n",
    "    y = output[0]\n",
    "    interm_output = output[1:]\n",
    "    \n",
    "    out = tokenizer.decode(y[0].cpu().squeeze())\n",
    "\n",
    "    return y, out, interm_output"
   ]
  },
  {
   "cell_type": "code",
   "execution_count": 207,
   "id": "faaef8dc-abb8-481f-8cd0-99140a691a63",
   "metadata": {},
   "outputs": [],
   "source": [
    "def main(args):\n",
    "    set_seed(args.random_state)\n",
    "    \n",
    "    output_dict = {\"input_prompt\": args.prompt}\n",
    "    \n",
    "    model = GPT.from_pretrained(args.lang_model)\n",
    "\n",
    "    # ship model to device and set to eval mode\n",
    "    model.to(args.device)\n",
    "    model.eval();\n",
    "    tokenizer = BPETokenizer()\n",
    "    \n",
    "    out = args.prompt\n",
    "    \n",
    "    input_tokens = tokenizer(args.prompt)\n",
    "    input_tokens = [tokenizer.decode(tok.unsqueeze(0)) for tok in input_tokens[0]]\n",
    "    output_dict[\"input_tokens\"] = input_tokens\n",
    "    for i in range(args.num_tokens):\n",
    "        y, out, interm_output = generate(prompt=out,\n",
    "                                         tokenizer=tokenizer, \n",
    "                                         model=model,\n",
    "                                         num_samples=1, \n",
    "                                         steps=1,\n",
    "                                         saliency=args.saliency)\n",
    "\n",
    "        token = tokenizer.decode(y[0][-1].unsqueeze(0))\n",
    "        \n",
    "        if \"tokens\" not in output_dict.keys():\n",
    "            output_dict[\"tokens\"] = []\n",
    "        output_dict[\"tokens\"].append(token)\n",
    "\n",
    "        if args.saliency:\n",
    "            logits = interm_output[1]\n",
    "            tok_emb = interm_output[2]\n",
    "            grads = torch.autograd.grad(tuple(torch.flatten(logits)), tok_emb, retain_graph=True)\n",
    "            aggregated_grads = []\n",
    "            for grad, inp in zip(grads, tok_emb):\n",
    "                assert args.saliency_metric in [\"mean\", \"inputXGrad\"]\n",
    "                if args.saliency_metric == \"inputXGrad\":\n",
    "                    aggregated_grads.append(torch.norm(grad * inp, dim=-1))\n",
    "                elif args.saliency_metric == \"mean\":\n",
    "                    aggregated_grads.append(grad.abs().mean(-1))\n",
    "                \n",
    "            if \"saliency\" not in output_dict.keys():\n",
    "                output_dict[\"saliency\"] = []\n",
    "            output_dict[\"saliency\"].append(aggregated_grads[0].cpu().detach()[0].tolist())\n",
    "        \n",
    "    output_dict[\"output_full_text\"] = out\n",
    "    output_dict[\"output_token_list\"] = [tokenizer.decode(token.unsqueeze(0)) for token in y[0]]\n",
    "    \n",
    "    if args.attn_pairs:\n",
    "        attn = interm_output[0]\n",
    "        output_dict[\"key_attn_pairs\"] = {}\n",
    "        output_dict[\"key_attn_pairs_ind\"] = []\n",
    "        if args.agg_method == \"max\":\n",
    "            agg_attn = torch.amax(attn[args.attn_layer_sel][0], dim=0).cpu().detach()[1:, 1:]\n",
    "        elif args.agg_method == \"mean\":\n",
    "            agg_attn = torch.mean(attn[args.attn_layer_sel][0], dim=0).cpu().detach()[1:, 1:]\n",
    "            \n",
    "        for i in range(agg_attn.shape[1]):\n",
    "            key_ind = torch.argmax(agg_attn[i])\n",
    "            if key_ind == i or i < args.num_tokens_buffed:\n",
    "                continue\n",
    "            iqr = torch.quantile(agg_attn[i][:i+1], 0.75) - torch.quantile(agg_attn[i][:i+1], 0.25)\n",
    "            if 1.5 * iqr + torch.quantile(agg_attn[i][:i+1], 0.75) > agg_attn[i][key_ind]:\n",
    "            # if 2 * torch.mean(agg_attn[i][:i+1]) > agg_attn[i][key_ind]:\n",
    "                continue\n",
    "            \n",
    "            key_word = output_dict[\"output_token_list\"][key_ind+1].strip(\" \")\n",
    "            cur_word = output_dict[\"output_token_list\"][i+1].strip(\" \")\n",
    "            \n",
    "            if not (cur_word.isalpha() and key_word.isalpha()):\n",
    "                continue\n",
    "  \n",
    "            key_word_ind = key_word + f\"_{int(key_ind.cpu()+1)}\"\n",
    "            cur_word_ind = cur_word + f\"_{i+1}\"\n",
    "            if key_word_ind not in output_dict[\"key_attn_pairs\"].keys():\n",
    "                output_dict[\"key_attn_pairs\"][key_word_ind] = []\n",
    "            output_dict[\"key_attn_pairs\"][key_word_ind].append(cur_word_ind)\n",
    "            \n",
    "            output_dict[\"key_attn_pairs_ind\"].append((key_word, cur_word, \n",
    "                                                  int(key_ind.cpu() + 1), i + 1))\n",
    "                \n",
    "    return output_dict, attn"
   ]
  },
  {
   "cell_type": "code",
   "execution_count": 218,
   "id": "7a3d86b1-45d3-4ef5-8b8e-a65b71668818",
   "metadata": {},
   "outputs": [],
   "source": [
    "import argparse\n",
    "\n",
    "args = argparse.Namespace()\n",
    "args.prompt = \"Remember Music is an Android app for identifying the songs that you have\"\n",
    "# args.prompt = \"Ha\"\n",
    "args.num_tokens = 50\n",
    "args.lang_model = \"gpt2\"\n",
    "args.random_state = 0\n",
    "args.saliency = True\n",
    "args.device = \"cuda\"\n",
    "args.saliency_metric = \"mean\"\n",
    "args.attn_layer_sel = \"attn_layer_10\"\n",
    "args.agg_method = \"mean\"\n",
    "args.num_tokens_buffed = 5\n",
    "args.attn_pairs = True"
   ]
  },
  {
   "cell_type": "code",
   "execution_count": 222,
   "id": "48d4c8cb-ef82-47d3-a618-cc0e21cd9e92",
   "metadata": {},
   "outputs": [],
   "source": [
    "out, attn = main(args)"
   ]
  },
  {
   "cell_type": "code",
   "execution_count": 220,
   "id": "5b11b643-a6ab-42a5-986c-ad1d2b7d2a46",
   "metadata": {
    "tags": []
   },
   "outputs": [
    {
     "data": {
      "text/plain": [
       "\"Remember Music is an Android app for identifying the songs that you have listened to on your phone. It's a great way to find out what's going on in your life.\\n\\n\\n• Find out what's going on in your life by searching for the songs you've listened to on your phone.\\n\\n\\n\""
      ]
     },
     "execution_count": 220,
     "metadata": {},
     "output_type": "execute_result"
    }
   ],
   "source": [
    "out[\"output_full_text\"]"
   ]
  },
  {
   "cell_type": "code",
   "execution_count": 221,
   "id": "1a83e43c-59bb-413e-9c8c-0a76cf30fcc6",
   "metadata": {},
   "outputs": [
    {
     "data": {
      "text/plain": [
       "({'Music_1': ['for_6',\n",
       "   'identifying_7',\n",
       "   'the_8',\n",
       "   'on_15',\n",
       "   'in_31',\n",
       "   'in_44',\n",
       "   'searching_48',\n",
       "   'on_56'],\n",
       "  'songs_9': ['you_11',\n",
       "   'have_12',\n",
       "   'find_25',\n",
       "   'out_26',\n",
       "   'what_27',\n",
       "   'Find_38',\n",
       "   'out_39',\n",
       "   'what_40',\n",
       "   'for_49',\n",
       "   'the_50'],\n",
       "  'on_15': ['your_16'],\n",
       "  'identifying_7': ['It_19', 'to_24'],\n",
       "  'app_5': ['great_22'],\n",
       "  'great_22': ['way_23'],\n",
       "  'find_25': ['on_30'],\n",
       "  'in_31': ['your_32'],\n",
       "  'Find_38': ['on_43'],\n",
       "  'life_33': ['your_45'],\n",
       "  'listened_13': ['by_47', 'you_52'],\n",
       "  'the_50': ['songs_51'],\n",
       "  'to_14': ['listened_54'],\n",
       "  'phone_17': ['your_57']},\n",
       " [('Music', 'for', 1, 6),\n",
       "  ('Music', 'identifying', 1, 7),\n",
       "  ('Music', 'the', 1, 8),\n",
       "  ('songs', 'you', 9, 11),\n",
       "  ('songs', 'have', 9, 12),\n",
       "  ('Music', 'on', 1, 15),\n",
       "  ('on', 'your', 15, 16),\n",
       "  ('identifying', 'It', 7, 19),\n",
       "  ('app', 'great', 5, 22),\n",
       "  ('great', 'way', 22, 23),\n",
       "  ('identifying', 'to', 7, 24),\n",
       "  ('songs', 'find', 9, 25),\n",
       "  ('songs', 'out', 9, 26),\n",
       "  ('songs', 'what', 9, 27),\n",
       "  ('find', 'on', 25, 30),\n",
       "  ('Music', 'in', 1, 31),\n",
       "  ('in', 'your', 31, 32),\n",
       "  ('songs', 'Find', 9, 38),\n",
       "  ('songs', 'out', 9, 39),\n",
       "  ('songs', 'what', 9, 40),\n",
       "  ('Find', 'on', 38, 43),\n",
       "  ('Music', 'in', 1, 44),\n",
       "  ('life', 'your', 33, 45),\n",
       "  ('listened', 'by', 13, 47),\n",
       "  ('Music', 'searching', 1, 48),\n",
       "  ('songs', 'for', 9, 49),\n",
       "  ('songs', 'the', 9, 50),\n",
       "  ('the', 'songs', 50, 51),\n",
       "  ('listened', 'you', 13, 52),\n",
       "  ('to', 'listened', 14, 54),\n",
       "  ('Music', 'on', 1, 56),\n",
       "  ('phone', 'your', 17, 57)])"
      ]
     },
     "execution_count": 221,
     "metadata": {},
     "output_type": "execute_result"
    }
   ],
   "source": [
    "out[\"key_attn_pairs\"], out[\"key_attn_pairs_ind\"]"
   ]
  },
  {
   "cell_type": "code",
   "execution_count": 107,
   "id": "9ca489de-5eb7-4f99-89f5-08cc836d5b1b",
   "metadata": {},
   "outputs": [
    {
     "data": {
      "text/plain": [
       "<matplotlib.image.AxesImage at 0x2ae6ac9e84c0>"
      ]
     },
     "execution_count": 107,
     "metadata": {},
     "output_type": "execute_result"
    },
    {
     "data": {
      "image/png": "[encoded data removed]",
      "text/plain": [
       "<Figure size 432x288 with 1 Axes>"
      ]
     },
     "metadata": {
      "needs_background": "light"
     },
     "output_type": "display_data"
    }
   ],
   "source": [
    "plt.imshow(torch.amax(attn[args.attn_layer_sel][0], dim=0).cpu().detach()[:, 1:])"
   ]
  },
  {
   "cell_type": "code",
   "execution_count": 124,
   "id": "12e350e0-c4ef-426f-b342-aa77dfe05bdb",
   "metadata": {
    "collapsed": true,
    "jupyter": {
     "outputs_hidden": true
    },
    "tags": []
   },
   "outputs": [
    {
     "data": {
      "text/plain": [
       "tensor([[1.0000, 0.0000, 0.0000, 0.0000, 0.0000, 0.0000, 0.0000, 0.0000, 0.0000,\n",
       "         0.0000, 0.0000, 0.0000, 0.0000, 0.0000, 0.0000, 0.0000, 0.0000, 0.0000,\n",
       "         0.0000, 0.0000, 0.0000],\n",
       "        [0.4284, 0.5715, 0.0000, 0.0000, 0.0000, 0.0000, 0.0000, 0.0000, 0.0000,\n",
       "         0.0000, 0.0000, 0.0000, 0.0000, 0.0000, 0.0000, 0.0000, 0.0000, 0.0000,\n",
       "         0.0000, 0.0000, 0.0000],\n",
       "        [0.2501, 0.6058, 0.2857, 0.0000, 0.0000, 0.0000, 0.0000, 0.0000, 0.0000,\n",
       "         0.0000, 0.0000, 0.0000, 0.0000, 0.0000, 0.0000, 0.0000, 0.0000, 0.0000,\n",
       "         0.0000, 0.0000, 0.0000],\n",
       "        [0.4837, 0.2676, 0.3329, 0.2633, 0.0000, 0.0000, 0.0000, 0.0000, 0.0000,\n",
       "         0.0000, 0.0000, 0.0000, 0.0000, 0.0000, 0.0000, 0.0000, 0.0000, 0.0000,\n",
       "         0.0000, 0.0000, 0.0000],\n",
       "        [0.1774, 0.2635, 0.1736, 0.1745, 0.3618, 0.0000, 0.0000, 0.0000, 0.0000,\n",
       "         0.0000, 0.0000, 0.0000, 0.0000, 0.0000, 0.0000, 0.0000, 0.0000, 0.0000,\n",
       "         0.0000, 0.0000, 0.0000],\n",
       "        [0.3061, 0.2658, 0.1738, 0.2556, 0.2451, 0.2089, 0.0000, 0.0000, 0.0000,\n",
       "         0.0000, 0.0000, 0.0000, 0.0000, 0.0000, 0.0000, 0.0000, 0.0000, 0.0000,\n",
       "         0.0000, 0.0000, 0.0000],\n",
       "        [0.2324, 0.1857, 0.1557, 0.1052, 0.1113, 0.2125, 0.2959, 0.0000, 0.0000,\n",
       "         0.0000, 0.0000, 0.0000, 0.0000, 0.0000, 0.0000, 0.0000, 0.0000, 0.0000,\n",
       "         0.0000, 0.0000, 0.0000],\n",
       "        [0.1636, 0.1088, 0.1289, 0.0826, 0.0922, 0.1259, 0.3059, 0.2427, 0.0000,\n",
       "         0.0000, 0.0000, 0.0000, 0.0000, 0.0000, 0.0000, 0.0000, 0.0000, 0.0000,\n",
       "         0.0000, 0.0000, 0.0000],\n",
       "        [0.1431, 0.1128, 0.0839, 0.0894, 0.0564, 0.1728, 0.3605, 0.1303, 0.2378,\n",
       "         0.0000, 0.0000, 0.0000, 0.0000, 0.0000, 0.0000, 0.0000, 0.0000, 0.0000,\n",
       "         0.0000, 0.0000, 0.0000],\n",
       "        [0.1481, 0.1061, 0.0884, 0.0825, 0.0495, 0.0663, 0.2393, 0.1500, 0.4579,\n",
       "         0.1410, 0.0000, 0.0000, 0.0000, 0.0000, 0.0000, 0.0000, 0.0000, 0.0000,\n",
       "         0.0000, 0.0000, 0.0000],\n",
       "        [0.0954, 0.0753, 0.0569, 0.0497, 0.0615, 0.1206, 0.1166, 0.0951, 0.2204,\n",
       "         0.0865, 0.2071, 0.0000, 0.0000, 0.0000, 0.0000, 0.0000, 0.0000, 0.0000,\n",
       "         0.0000, 0.0000, 0.0000],\n",
       "        [0.1118, 0.0543, 0.0276, 0.0506, 0.0540, 0.0610, 0.1754, 0.0970, 0.2491,\n",
       "         0.1140, 0.2841, 0.1030, 0.0000, 0.0000, 0.0000, 0.0000, 0.0000, 0.0000,\n",
       "         0.0000, 0.0000, 0.0000],\n",
       "        [0.2107, 0.0670, 0.0756, 0.0511, 0.0413, 0.0741, 0.1087, 0.0937, 0.3065,\n",
       "         0.0917, 0.0663, 0.0654, 0.0701, 0.0000, 0.0000, 0.0000, 0.0000, 0.0000,\n",
       "         0.0000, 0.0000, 0.0000],\n",
       "        [0.0804, 0.0624, 0.0720, 0.0342, 0.0446, 0.0593, 0.0741, 0.0815, 0.3815,\n",
       "         0.0804, 0.1698, 0.0999, 0.1267, 0.0737, 0.0000, 0.0000, 0.0000, 0.0000,\n",
       "         0.0000, 0.0000, 0.0000],\n",
       "        [0.1267, 0.0736, 0.0502, 0.1133, 0.0959, 0.0518, 0.1089, 0.0742, 0.1479,\n",
       "         0.0572, 0.1148, 0.1151, 0.1009, 0.0819, 0.1345, 0.0000, 0.0000, 0.0000,\n",
       "         0.0000, 0.0000, 0.0000],\n",
       "        [0.1263, 0.0523, 0.0507, 0.1373, 0.1033, 0.1875, 0.0578, 0.0931, 0.1114,\n",
       "         0.0350, 0.0529, 0.0718, 0.0310, 0.0456, 0.2903, 0.0705, 0.0000, 0.0000,\n",
       "         0.0000, 0.0000, 0.0000],\n",
       "        [0.0798, 0.0618, 0.0393, 0.0353, 0.1107, 0.0393, 0.0617, 0.0401, 0.2015,\n",
       "         0.0372, 0.0674, 0.0921, 0.0609, 0.2409, 0.1071, 0.1128, 0.0889, 0.0000,\n",
       "         0.0000, 0.0000, 0.0000],\n",
       "        [0.1575, 0.0662, 0.0808, 0.0676, 0.1961, 0.0347, 0.1932, 0.0253, 0.0835,\n",
       "         0.0271, 0.0339, 0.0217, 0.0194, 0.0520, 0.0164, 0.0190, 0.0349, 0.4700,\n",
       "         0.0000, 0.0000, 0.0000],\n",
       "        [0.0429, 0.0549, 0.0895, 0.0300, 0.1262, 0.0701, 0.2160, 0.0596, 0.0985,\n",
       "         0.0418, 0.0898, 0.0653, 0.0258, 0.0373, 0.0362, 0.0313, 0.0344, 0.1220,\n",
       "         0.2809, 0.0000, 0.0000],\n",
       "        [0.0377, 0.0707, 0.0688, 0.0528, 0.1051, 0.0569, 0.0473, 0.0443, 0.0447,\n",
       "         0.0431, 0.0370, 0.0229, 0.0263, 0.0309, 0.0315, 0.0309, 0.0425, 0.1066,\n",
       "         0.3010, 0.2769, 0.0000],\n",
       "        [0.0905, 0.0588, 0.0698, 0.0856, 0.1117, 0.0422, 0.0434, 0.0484, 0.0607,\n",
       "         0.0281, 0.0336, 0.0292, 0.0159, 0.0477, 0.0211, 0.0413, 0.0721, 0.0819,\n",
       "         0.1162, 0.4901, 0.0648]])"
      ]
     },
     "execution_count": 124,
     "metadata": {},
     "output_type": "execute_result"
    }
   ],
   "source": [
    "torch.amax(attn[args.attn_layer_sel][0], dim=0).cpu().detach()[1:, 1:]"
   ]
  },
  {
   "cell_type": "code",
   "execution_count": 122,
   "id": "5402a4d2-6f86-4e64-a304-5a5656a38ee2",
   "metadata": {},
   "outputs": [
    {
     "data": {
      "text/plain": [
       "tensor([0.2324, 0.1857, 0.1557, 0.1052, 0.1113, 0.2125, 0.2959, 0.0000])"
      ]
     },
     "execution_count": 122,
     "metadata": {},
     "output_type": "execute_result"
    }
   ],
   "source": [
    "agg_attn[6][:7]"
   ]
  },
  {
   "cell_type": "code",
   "execution_count": 149,
   "id": "cd2d3d9d-ff71-42ac-a91e-ed6841c10315",
   "metadata": {
    "tags": []
   },
   "outputs": [
    {
     "name": "stdout",
     "output_type": "stream",
     "text": [
      " Music\n",
      " is\n",
      " an\n",
      " Android\n",
      " app\n",
      " for\n",
      "tensor(0)\n",
      "tensor(0.1076) tensor(0.0690)\n",
      " for  Music\n",
      " identifying\n",
      " the\n",
      "tensor(6)\n",
      "tensor(0.0959) tensor(0.0502)\n",
      " the  identifying\n",
      " songs\n",
      "tensor(6)\n",
      "tensor(0.0957) tensor(0.0477)\n",
      " songs  identifying\n",
      " that\n",
      "tensor(8)\n",
      "tensor(0.0898) tensor(0.0409)\n",
      " that  songs\n",
      " you\n",
      "tensor(8)\n",
      "tensor(0.0648) tensor(0.0275)\n",
      " you  songs\n",
      " have\n",
      "tensor(8)\n",
      "tensor(0.0756) tensor(0.0333)\n",
      " have  songs\n",
      " listened\n",
      "tensor(8)\n",
      "tensor(0.0564) tensor(0.0273)\n",
      " listened  songs\n",
      " to\n",
      "tensor(8)\n",
      "tensor(0.0621) tensor(0.0281)\n",
      " to  songs\n",
      " on\n",
      "tensor(0)\n",
      "tensor(0.0581) tensor(0.0294)\n",
      " on  Music\n",
      " your\n",
      "tensor(14)\n",
      "tensor(0.0799) tensor(0.0254)\n",
      " your  on\n",
      " phone\n",
      "tensor(13)\n",
      "tensor(0.0516) tensor(0.0243)\n",
      " phone  to\n",
      ".\n",
      " It\n",
      "'s\n",
      "tensor(18)\n",
      "tensor(0.0621) tensor(0.0197)\n",
      "'s  It\n",
      " a\n",
      "tensor(19)\n",
      "tensor(0.0594) tensor(0.0208)\n",
      " a 's\n"
     ]
    }
   ],
   "source": [
    "agg_attn = torch.mean(attn[args.attn_layer_sel][0], dim=0).cpu().detach()[1:, 1:]\n",
    "for i in range(agg_attn.shape[1]):\n",
    "    key_ind = torch.argmax(agg_attn[i])\n",
    "    print(out[\"output_token_list\"][i+1])\n",
    "    if key_ind == i or i < 5:\n",
    "        continue\n",
    "    iqr = torch.quantile(agg_attn[i][:i+1], 0.75) - torch.quantile(agg_attn[i][:i+1], 0.25)\n",
    "    if 1.5 * iqr + torch.median(agg_attn[i][:i+1]) > agg_attn[i][key_ind]:\n",
    "        continue\n",
    "    print(key_ind)\n",
    "    print(agg_attn[i][key_ind], torch.mean(agg_attn[i][:i+1]))\n",
    "    print(out[\"output_token_list\"][i+1], out[\"output_token_list\"][key_ind+1])"
   ]
  },
  {
   "cell_type": "code",
   "execution_count": 94,
   "id": "ffeccf96-90a0-4736-b880-3ae0b17efbf7",
   "metadata": {},
   "outputs": [
    {
     "data": {
      "text/plain": [
       "tensor([0.0987, 0.1126, 0.0648, 0.0000, 0.0000, 0.0000, 0.0000, 0.0000, 0.0000,\n",
       "        0.0000, 0.0000, 0.0000, 0.0000, 0.0000, 0.0000, 0.0000, 0.0000, 0.0000,\n",
       "        0.0000, 0.0000, 0.0000])"
      ]
     },
     "execution_count": 94,
     "metadata": {},
     "output_type": "execute_result"
    }
   ],
   "source": [
    "torch.mean(attn[args.attn_layer_sel][0], dim=0).cpu().detach()[:, 1:][3]"
   ]
  },
  {
   "cell_type": "code",
   "execution_count": 64,
   "id": "a3733232-021a-43d3-b473-49f703160dcc",
   "metadata": {},
   "outputs": [
    {
     "data": {
      "text/plain": [
       "\"Remember Music is an Android app for identifying the songs that you have listened to on your phone. It's a great\""
      ]
     },
     "execution_count": 64,
     "metadata": {},
     "output_type": "execute_result"
    }
   ],
   "source": [
    "out[\"output_full_text\"]"
   ]
  },
  {
   "cell_type": "code",
   "execution_count": 72,
   "id": "7fbd6658-3f90-4aed-8856-14ecc00584ff",
   "metadata": {},
   "outputs": [
    {
     "data": {
      "image/png": "[encoded data removed]",
      "text/plain": [
       "<Figure size 432x288 with 1 Axes>"
      ]
     },
     "metadata": {
      "needs_background": "light"
     },
     "output_type": "display_data"
    }
   ],
   "source": [
    "i = 9\n",
    "tokens = out[\"input_tokens\"] + out[\"tokens\"][:i]\n",
    "plt.imshow(np.array(out[\"saliency\"][i]).reshape(1, -1), cmap=\"Reds\")\n",
    "plt.xticks(ticks=np.arange(len(tokens)), labels=tokens, fontsize=12, rotation = -35)\n",
    "plt.yticks(ticks=[])\n",
    "plt.show()"
   ]
  },
  {
   "cell_type": "code",
   "execution_count": 49,
   "id": "94c6c23b-a60d-464b-9c2c-01ece413bb96",
   "metadata": {},
   "outputs": [
    {
     "data": {
      "text/plain": [
       "['Remember',\n",
       " ' Music',\n",
       " ' is',\n",
       " ' an',\n",
       " ' Android',\n",
       " ' app',\n",
       " ' for',\n",
       " ' identifying',\n",
       " ' the',\n",
       " ' songs',\n",
       " ' that',\n",
       " ' you',\n",
       " ' have',\n",
       " ' listened']"
      ]
     },
     "execution_count": 49,
     "metadata": {},
     "output_type": "execute_result"
    }
   ],
   "source": [
    "tokens"
   ]
  },
  {
   "cell_type": "code",
   "execution_count": null,
   "id": "170c658d-4398-4ede-af38-13df9cd45930",
   "metadata": {},
   "outputs": [],
   "source": []
  }
 ],
 "metadata": {
  "kernelspec": {
   "display_name": "Python [conda env:.conda-diffusion-viz-gpu]",
   "language": "python",
   "name": "conda-env-.conda-diffusion-viz-gpu-py"
  },
  "language_info": {
   "codemirror_mode": {
    "name": "ipython",
    "version": 3
   },
   "file_extension": ".py",
   "mimetype": "text/x-python",
   "name": "python",
   "nbconvert_exporter": "python",
   "pygments_lexer": "ipython3",
   "version": "3.9.13"
  }
 },
 "nbformat": 4,
 "nbformat_minor": 5
}
